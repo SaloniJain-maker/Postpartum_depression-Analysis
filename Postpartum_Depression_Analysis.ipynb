{
 "cells": [
  {
   "cell_type": "code",
   "execution_count": 1,
   "id": "e827db3a",
   "metadata": {},
   "outputs": [],
   "source": [
    "import pandas as pd\n",
    "import numpy as np\n",
    "import matplotlib.pyplot as plt\n",
    "import seaborn as sns"
   ]
  },
  {
   "cell_type": "code",
   "execution_count": 2,
   "id": "b2951b71",
   "metadata": {},
   "outputs": [],
   "source": [
    "df = pd.read_excel('Postpartum Depression Analysis.xlsx')"
   ]
  },
  {
   "cell_type": "code",
   "execution_count": 3,
   "id": "3bc65fdc",
   "metadata": {},
   "outputs": [
    {
     "data": {
      "text/html": [
       "<div>\n",
       "<style scoped>\n",
       "    .dataframe tbody tr th:only-of-type {\n",
       "        vertical-align: middle;\n",
       "    }\n",
       "\n",
       "    .dataframe tbody tr th {\n",
       "        vertical-align: top;\n",
       "    }\n",
       "\n",
       "    .dataframe thead th {\n",
       "        text-align: right;\n",
       "    }\n",
       "</style>\n",
       "<table border=\"1\" class=\"dataframe\">\n",
       "  <thead>\n",
       "    <tr style=\"text-align: right;\">\n",
       "      <th></th>\n",
       "      <th>Timestamp</th>\n",
       "      <th>Age</th>\n",
       "      <th>Feeling sad or Tearful</th>\n",
       "      <th>Irritable towards baby &amp; partner</th>\n",
       "      <th>Trouble sleeping at night</th>\n",
       "      <th>Problems concentrating or making decision</th>\n",
       "      <th>Overeating or loss of appetite</th>\n",
       "      <th>Feeling anxious</th>\n",
       "      <th>Feeling of guilt</th>\n",
       "      <th>Problems of bonding with baby</th>\n",
       "      <th>Suicide attempt</th>\n",
       "    </tr>\n",
       "  </thead>\n",
       "  <tbody>\n",
       "    <tr>\n",
       "      <th>0</th>\n",
       "      <td>6/14/2022 20:02</td>\n",
       "      <td>35-40</td>\n",
       "      <td>Yes</td>\n",
       "      <td>Yes</td>\n",
       "      <td>Two or more days a week</td>\n",
       "      <td>Yes</td>\n",
       "      <td>Yes</td>\n",
       "      <td>Yes</td>\n",
       "      <td>No</td>\n",
       "      <td>Yes</td>\n",
       "      <td>Yes</td>\n",
       "    </tr>\n",
       "    <tr>\n",
       "      <th>1</th>\n",
       "      <td>6/14/2022 20:03</td>\n",
       "      <td>40-45</td>\n",
       "      <td>Yes</td>\n",
       "      <td>No</td>\n",
       "      <td>No</td>\n",
       "      <td>Yes</td>\n",
       "      <td>Yes</td>\n",
       "      <td>No</td>\n",
       "      <td>Yes</td>\n",
       "      <td>Yes</td>\n",
       "      <td>No</td>\n",
       "    </tr>\n",
       "    <tr>\n",
       "      <th>2</th>\n",
       "      <td>6/14/2022 20:04</td>\n",
       "      <td>35-40</td>\n",
       "      <td>Yes</td>\n",
       "      <td>No</td>\n",
       "      <td>Yes</td>\n",
       "      <td>Yes</td>\n",
       "      <td>Yes</td>\n",
       "      <td>Yes</td>\n",
       "      <td>No</td>\n",
       "      <td>Sometimes</td>\n",
       "      <td>No</td>\n",
       "    </tr>\n",
       "    <tr>\n",
       "      <th>3</th>\n",
       "      <td>6/14/2022 20:05</td>\n",
       "      <td>35-40</td>\n",
       "      <td>Yes</td>\n",
       "      <td>Yes</td>\n",
       "      <td>Yes</td>\n",
       "      <td>Yes</td>\n",
       "      <td>No</td>\n",
       "      <td>Yes</td>\n",
       "      <td>Maybe</td>\n",
       "      <td>No</td>\n",
       "      <td>No</td>\n",
       "    </tr>\n",
       "    <tr>\n",
       "      <th>4</th>\n",
       "      <td>6/14/2022 20:06</td>\n",
       "      <td>40-45</td>\n",
       "      <td>Yes</td>\n",
       "      <td>No</td>\n",
       "      <td>Two or more days a week</td>\n",
       "      <td>Yes</td>\n",
       "      <td>No</td>\n",
       "      <td>Yes</td>\n",
       "      <td>No</td>\n",
       "      <td>Yes</td>\n",
       "      <td>No</td>\n",
       "    </tr>\n",
       "    <tr>\n",
       "      <th>...</th>\n",
       "      <td>...</td>\n",
       "      <td>...</td>\n",
       "      <td>...</td>\n",
       "      <td>...</td>\n",
       "      <td>...</td>\n",
       "      <td>...</td>\n",
       "      <td>...</td>\n",
       "      <td>...</td>\n",
       "      <td>...</td>\n",
       "      <td>...</td>\n",
       "      <td>...</td>\n",
       "    </tr>\n",
       "    <tr>\n",
       "      <th>1498</th>\n",
       "      <td>6/15/2022 0:35</td>\n",
       "      <td>30-35</td>\n",
       "      <td>Yes</td>\n",
       "      <td>No</td>\n",
       "      <td>Two or more days a week</td>\n",
       "      <td>No</td>\n",
       "      <td>No</td>\n",
       "      <td>Yes</td>\n",
       "      <td>Maybe</td>\n",
       "      <td>Sometimes</td>\n",
       "      <td>No</td>\n",
       "    </tr>\n",
       "    <tr>\n",
       "      <th>1499</th>\n",
       "      <td>6/15/2022 0:35</td>\n",
       "      <td>25-30</td>\n",
       "      <td>Sometimes</td>\n",
       "      <td>No</td>\n",
       "      <td>No</td>\n",
       "      <td>Often</td>\n",
       "      <td>No</td>\n",
       "      <td>Yes</td>\n",
       "      <td>Maybe</td>\n",
       "      <td>Yes</td>\n",
       "      <td>No</td>\n",
       "    </tr>\n",
       "    <tr>\n",
       "      <th>1500</th>\n",
       "      <td>6/15/2022 0:35</td>\n",
       "      <td>25-30</td>\n",
       "      <td>No</td>\n",
       "      <td>Sometimes</td>\n",
       "      <td>Two or more days a week</td>\n",
       "      <td>No</td>\n",
       "      <td>No</td>\n",
       "      <td>No</td>\n",
       "      <td>Yes</td>\n",
       "      <td>No</td>\n",
       "      <td>Not interested to say</td>\n",
       "    </tr>\n",
       "    <tr>\n",
       "      <th>1501</th>\n",
       "      <td>6/15/2022 0:36</td>\n",
       "      <td>25-30</td>\n",
       "      <td>No</td>\n",
       "      <td>Sometimes</td>\n",
       "      <td>Yes</td>\n",
       "      <td>Often</td>\n",
       "      <td>No</td>\n",
       "      <td>Yes</td>\n",
       "      <td>No</td>\n",
       "      <td>No</td>\n",
       "      <td>No</td>\n",
       "    </tr>\n",
       "    <tr>\n",
       "      <th>1502</th>\n",
       "      <td>6/15/2022 0:36</td>\n",
       "      <td>45-50</td>\n",
       "      <td>Sometimes</td>\n",
       "      <td>Sometimes</td>\n",
       "      <td>Two or more days a week</td>\n",
       "      <td>No</td>\n",
       "      <td>No</td>\n",
       "      <td>No</td>\n",
       "      <td>Maybe</td>\n",
       "      <td>No</td>\n",
       "      <td>No</td>\n",
       "    </tr>\n",
       "  </tbody>\n",
       "</table>\n",
       "<p>1503 rows × 11 columns</p>\n",
       "</div>"
      ],
      "text/plain": [
       "            Timestamp    Age Feeling sad or Tearful  \\\n",
       "0     6/14/2022 20:02  35-40                    Yes   \n",
       "1     6/14/2022 20:03  40-45                    Yes   \n",
       "2     6/14/2022 20:04  35-40                    Yes   \n",
       "3     6/14/2022 20:05  35-40                    Yes   \n",
       "4     6/14/2022 20:06  40-45                    Yes   \n",
       "...               ...    ...                    ...   \n",
       "1498   6/15/2022 0:35  30-35                    Yes   \n",
       "1499   6/15/2022 0:35  25-30              Sometimes   \n",
       "1500   6/15/2022 0:35  25-30                     No   \n",
       "1501   6/15/2022 0:36  25-30                     No   \n",
       "1502   6/15/2022 0:36  45-50              Sometimes   \n",
       "\n",
       "     Irritable towards baby & partner Trouble sleeping at night  \\\n",
       "0                                 Yes   Two or more days a week   \n",
       "1                                  No                        No   \n",
       "2                                  No                       Yes   \n",
       "3                                 Yes                       Yes   \n",
       "4                                  No   Two or more days a week   \n",
       "...                               ...                       ...   \n",
       "1498                               No   Two or more days a week   \n",
       "1499                               No                        No   \n",
       "1500                        Sometimes   Two or more days a week   \n",
       "1501                        Sometimes                       Yes   \n",
       "1502                        Sometimes   Two or more days a week   \n",
       "\n",
       "     Problems concentrating or making decision Overeating or loss of appetite  \\\n",
       "0                                          Yes                            Yes   \n",
       "1                                          Yes                            Yes   \n",
       "2                                          Yes                            Yes   \n",
       "3                                          Yes                             No   \n",
       "4                                          Yes                             No   \n",
       "...                                        ...                            ...   \n",
       "1498                                        No                             No   \n",
       "1499                                     Often                             No   \n",
       "1500                                        No                             No   \n",
       "1501                                     Often                             No   \n",
       "1502                                        No                             No   \n",
       "\n",
       "     Feeling anxious Feeling of guilt Problems of bonding with baby  \\\n",
       "0                Yes               No                           Yes   \n",
       "1                 No              Yes                           Yes   \n",
       "2                Yes               No                     Sometimes   \n",
       "3                Yes            Maybe                            No   \n",
       "4                Yes               No                           Yes   \n",
       "...              ...              ...                           ...   \n",
       "1498             Yes            Maybe                     Sometimes   \n",
       "1499             Yes            Maybe                           Yes   \n",
       "1500              No              Yes                            No   \n",
       "1501             Yes               No                            No   \n",
       "1502              No            Maybe                            No   \n",
       "\n",
       "            Suicide attempt  \n",
       "0                       Yes  \n",
       "1                        No  \n",
       "2                        No  \n",
       "3                        No  \n",
       "4                        No  \n",
       "...                     ...  \n",
       "1498                     No  \n",
       "1499                     No  \n",
       "1500  Not interested to say  \n",
       "1501                     No  \n",
       "1502                     No  \n",
       "\n",
       "[1503 rows x 11 columns]"
      ]
     },
     "execution_count": 3,
     "metadata": {},
     "output_type": "execute_result"
    }
   ],
   "source": [
    "df"
   ]
  },
  {
   "cell_type": "code",
   "execution_count": 4,
   "id": "495513b6",
   "metadata": {},
   "outputs": [
    {
     "data": {
      "text/plain": [
       "Index(['Timestamp', 'Age', 'Feeling sad or Tearful',\n",
       "       'Irritable towards baby & partner', 'Trouble sleeping at night',\n",
       "       'Problems concentrating or making decision',\n",
       "       'Overeating or loss of appetite', 'Feeling anxious', 'Feeling of guilt',\n",
       "       'Problems of bonding with baby', 'Suicide attempt'],\n",
       "      dtype='object')"
      ]
     },
     "execution_count": 4,
     "metadata": {},
     "output_type": "execute_result"
    }
   ],
   "source": [
    "df.columns"
   ]
  },
  {
   "cell_type": "code",
   "execution_count": 5,
   "id": "60281955",
   "metadata": {},
   "outputs": [
    {
     "data": {
      "text/plain": [
       "Timestamp                                     0\n",
       "Age                                           0\n",
       "Feeling sad or Tearful                        0\n",
       "Irritable towards baby & partner              6\n",
       "Trouble sleeping at night                     0\n",
       "Problems concentrating or making decision    12\n",
       "Overeating or loss of appetite                0\n",
       "Feeling anxious                               0\n",
       "Feeling of guilt                              9\n",
       "Problems of bonding with baby                 0\n",
       "Suicide attempt                               0\n",
       "dtype: int64"
      ]
     },
     "execution_count": 5,
     "metadata": {},
     "output_type": "execute_result"
    }
   ],
   "source": [
    "df.isnull().sum()"
   ]
  },
  {
   "cell_type": "code",
   "execution_count": 6,
   "id": "b19b4491",
   "metadata": {},
   "outputs": [],
   "source": [
    "df = df.dropna()"
   ]
  },
  {
   "cell_type": "code",
   "execution_count": 7,
   "id": "1c2cf662",
   "metadata": {},
   "outputs": [
    {
     "data": {
      "text/plain": [
       "Timestamp                                    0\n",
       "Age                                          0\n",
       "Feeling sad or Tearful                       0\n",
       "Irritable towards baby & partner             0\n",
       "Trouble sleeping at night                    0\n",
       "Problems concentrating or making decision    0\n",
       "Overeating or loss of appetite               0\n",
       "Feeling anxious                              0\n",
       "Feeling of guilt                             0\n",
       "Problems of bonding with baby                0\n",
       "Suicide attempt                              0\n",
       "dtype: int64"
      ]
     },
     "execution_count": 7,
     "metadata": {},
     "output_type": "execute_result"
    }
   ],
   "source": [
    "df.isnull().sum()"
   ]
  },
  {
   "cell_type": "code",
   "execution_count": 8,
   "id": "adf64395",
   "metadata": {},
   "outputs": [
    {
     "data": {
      "text/plain": [
       "Timestamp                                    object\n",
       "Age                                          object\n",
       "Feeling sad or Tearful                       object\n",
       "Irritable towards baby & partner             object\n",
       "Trouble sleeping at night                    object\n",
       "Problems concentrating or making decision    object\n",
       "Overeating or loss of appetite               object\n",
       "Feeling anxious                              object\n",
       "Feeling of guilt                             object\n",
       "Problems of bonding with baby                object\n",
       "Suicide attempt                              object\n",
       "dtype: object"
      ]
     },
     "execution_count": 8,
     "metadata": {},
     "output_type": "execute_result"
    }
   ],
   "source": [
    "df.dtypes"
   ]
  },
  {
   "cell_type": "code",
   "execution_count": 9,
   "id": "f68b62e5",
   "metadata": {},
   "outputs": [
    {
     "data": {
      "text/plain": [
       "40-45    358\n",
       "35-40    343\n",
       "30-35    338\n",
       "45-50    271\n",
       "25-30    181\n",
       "Name: Age, dtype: int64"
      ]
     },
     "execution_count": 9,
     "metadata": {},
     "output_type": "execute_result"
    }
   ],
   "source": [
    "df['Age'].value_counts()"
   ]
  },
  {
   "cell_type": "code",
   "execution_count": 10,
   "id": "2ea66cd3",
   "metadata": {},
   "outputs": [
    {
     "data": {
      "text/plain": [
       "Index(['Timestamp', 'Age', 'Feeling sad or Tearful',\n",
       "       'Irritable towards baby & partner', 'Trouble sleeping at night',\n",
       "       'Problems concentrating or making decision',\n",
       "       'Overeating or loss of appetite', 'Feeling anxious', 'Feeling of guilt',\n",
       "       'Problems of bonding with baby', 'Suicide attempt'],\n",
       "      dtype='object')"
      ]
     },
     "execution_count": 10,
     "metadata": {},
     "output_type": "execute_result"
    }
   ],
   "source": [
    "df.columns"
   ]
  },
  {
   "cell_type": "code",
   "execution_count": 12,
   "id": "04d83307",
   "metadata": {},
   "outputs": [],
   "source": [
    "df.to_csv('postpartum_depressio1.csv')"
   ]
  },
  {
   "cell_type": "code",
   "execution_count": 13,
   "id": "c3a6469e",
   "metadata": {},
   "outputs": [
    {
     "name": "stderr",
     "output_type": "stream",
     "text": [
      "G:\\software\\lib\\site-packages\\seaborn\\_decorators.py:36: FutureWarning: Pass the following variable as a keyword arg: x. From version 0.12, the only valid positional argument will be `data`, and passing other arguments without an explicit keyword will result in an error or misinterpretation.\n",
      "  warnings.warn(\n"
     ]
    },
    {
     "data": {
      "text/plain": [
       "<AxesSubplot:xlabel='Age', ylabel='count'>"
      ]
     },
     "execution_count": 13,
     "metadata": {},
     "output_type": "execute_result"
    },
    {
     "data": {
      "image/png": "[encoded data removed]",
      "text/plain": [
       "<Figure size 432x288 with 1 Axes>"
      ]
     },
     "metadata": {
      "needs_background": "light"
     },
     "output_type": "display_data"
    }
   ],
   "source": [
    "sns.countplot(df['Age'])"
   ]
  },
  {
   "cell_type": "code",
   "execution_count": 14,
   "id": "88dfe32d",
   "metadata": {},
   "outputs": [
    {
     "name": "stderr",
     "output_type": "stream",
     "text": [
      "G:\\software\\lib\\site-packages\\seaborn\\_decorators.py:36: FutureWarning: Pass the following variable as a keyword arg: x. From version 0.12, the only valid positional argument will be `data`, and passing other arguments without an explicit keyword will result in an error or misinterpretation.\n",
      "  warnings.warn(\n"
     ]
    },
    {
     "data": {
      "text/plain": [
       "<AxesSubplot:xlabel='Feeling sad or Tearful', ylabel='count'>"
      ]
     },
     "execution_count": 14,
     "metadata": {},
     "output_type": "execute_result"
    },
    {
     "data": {
      "image/png": "[encoded data removed]",
      "text/plain": [
       "<Figure size 432x288 with 1 Axes>"
      ]
     },
     "metadata": {
      "needs_background": "light"
     },
     "output_type": "display_data"
    }
   ],
   "source": [
    "sns.countplot(df['Feeling sad or Tearful'])"
   ]
  },
  {
   "cell_type": "code",
   "execution_count": 15,
   "id": "e5ffa752",
   "metadata": {},
   "outputs": [
    {
     "name": "stderr",
     "output_type": "stream",
     "text": [
      "G:\\software\\lib\\site-packages\\seaborn\\_decorators.py:36: FutureWarning: Pass the following variable as a keyword arg: x. From version 0.12, the only valid positional argument will be `data`, and passing other arguments without an explicit keyword will result in an error or misinterpretation.\n",
      "  warnings.warn(\n"
     ]
    },
    {
     "data": {
      "text/plain": [
       "<AxesSubplot:xlabel='Feeling anxious', ylabel='count'>"
      ]
     },
     "execution_count": 15,
     "metadata": {},
     "output_type": "execute_result"
    },
    {
     "data": {
      "image/png": "[encoded data removed]",
      "text/plain": [
       "<Figure size 432x288 with 1 Axes>"
      ]
     },
     "metadata": {
      "needs_background": "light"
     },
     "output_type": "display_data"
    }
   ],
   "source": [
    "sns.countplot(df['Feeling anxious'])"
   ]
  },
  {
   "cell_type": "code",
   "execution_count": 16,
   "id": "c0988e17",
   "metadata": {},
   "outputs": [
    {
     "data": {
      "text/plain": [
       "<AxesSubplot:ylabel='Suicide attempt'>"
      ]
     },
     "execution_count": 16,
     "metadata": {},
     "output_type": "execute_result"
    },
    {
     "data": {
      "image/png": "[encoded data removed]",
      "text/plain": [
       "<Figure size 432x288 with 1 Axes>"
      ]
     },
     "metadata": {},
     "output_type": "display_data"
    }
   ],
   "source": [
    "df['Suicide attempt'].value_counts().plot(kind='pie',autopct='%.2f')"
   ]
  },
  {
   "cell_type": "code",
   "execution_count": 17,
   "id": "dc904c2b",
   "metadata": {},
   "outputs": [
    {
     "data": {
      "text/html": [
       "<div>\n",
       "<style scoped>\n",
       "    .dataframe tbody tr th:only-of-type {\n",
       "        vertical-align: middle;\n",
       "    }\n",
       "\n",
       "    .dataframe tbody tr th {\n",
       "        vertical-align: top;\n",
       "    }\n",
       "\n",
       "    .dataframe thead th {\n",
       "        text-align: right;\n",
       "    }\n",
       "</style>\n",
       "<table border=\"1\" class=\"dataframe\">\n",
       "  <thead>\n",
       "    <tr style=\"text-align: right;\">\n",
       "      <th></th>\n",
       "      <th>Timestamp</th>\n",
       "      <th>Age</th>\n",
       "      <th>Feeling sad or Tearful</th>\n",
       "      <th>Irritable towards baby &amp; partner</th>\n",
       "      <th>Trouble sleeping at night</th>\n",
       "      <th>Problems concentrating or making decision</th>\n",
       "      <th>Overeating or loss of appetite</th>\n",
       "      <th>Feeling of guilt</th>\n",
       "      <th>Problems of bonding with baby</th>\n",
       "      <th>Suicide attempt</th>\n",
       "    </tr>\n",
       "    <tr>\n",
       "      <th>Feeling anxious</th>\n",
       "      <th></th>\n",
       "      <th></th>\n",
       "      <th></th>\n",
       "      <th></th>\n",
       "      <th></th>\n",
       "      <th></th>\n",
       "      <th></th>\n",
       "      <th></th>\n",
       "      <th></th>\n",
       "      <th></th>\n",
       "    </tr>\n",
       "  </thead>\n",
       "  <tbody>\n",
       "    <tr>\n",
       "      <th>No</th>\n",
       "      <td>523</td>\n",
       "      <td>523</td>\n",
       "      <td>523</td>\n",
       "      <td>523</td>\n",
       "      <td>523</td>\n",
       "      <td>523</td>\n",
       "      <td>523</td>\n",
       "      <td>523</td>\n",
       "      <td>523</td>\n",
       "      <td>523</td>\n",
       "    </tr>\n",
       "    <tr>\n",
       "      <th>Yes</th>\n",
       "      <td>968</td>\n",
       "      <td>968</td>\n",
       "      <td>968</td>\n",
       "      <td>968</td>\n",
       "      <td>968</td>\n",
       "      <td>968</td>\n",
       "      <td>968</td>\n",
       "      <td>968</td>\n",
       "      <td>968</td>\n",
       "      <td>968</td>\n",
       "    </tr>\n",
       "  </tbody>\n",
       "</table>\n",
       "</div>"
      ],
      "text/plain": [
       "                 Timestamp  Age  Feeling sad or Tearful  \\\n",
       "Feeling anxious                                           \n",
       "No                     523  523                     523   \n",
       "Yes                    968  968                     968   \n",
       "\n",
       "                 Irritable towards baby & partner  Trouble sleeping at night  \\\n",
       "Feeling anxious                                                                \n",
       "No                                            523                        523   \n",
       "Yes                                           968                        968   \n",
       "\n",
       "                 Problems concentrating or making decision  \\\n",
       "Feeling anxious                                              \n",
       "No                                                     523   \n",
       "Yes                                                    968   \n",
       "\n",
       "                 Overeating or loss of appetite  Feeling of guilt  \\\n",
       "Feeling anxious                                                     \n",
       "No                                          523               523   \n",
       "Yes                                         968               968   \n",
       "\n",
       "                 Problems of bonding with baby  Suicide attempt  \n",
       "Feeling anxious                                                  \n",
       "No                                         523              523  \n",
       "Yes                                        968              968  "
      ]
     },
     "execution_count": 17,
     "metadata": {},
     "output_type": "execute_result"
    }
   ],
   "source": [
    "df.groupby('Feeling anxious').count()"
   ]
  },
  {
   "cell_type": "code",
   "execution_count": 18,
   "id": "d5797e30",
   "metadata": {},
   "outputs": [
    {
     "data": {
      "text/plain": [
       "Index(['Timestamp', 'Age', 'Feeling sad or Tearful',\n",
       "       'Irritable towards baby & partner', 'Trouble sleeping at night',\n",
       "       'Problems concentrating or making decision',\n",
       "       'Overeating or loss of appetite', 'Feeling anxious', 'Feeling of guilt',\n",
       "       'Problems of bonding with baby', 'Suicide attempt'],\n",
       "      dtype='object')"
      ]
     },
     "execution_count": 18,
     "metadata": {},
     "output_type": "execute_result"
    }
   ],
   "source": [
    "df.columns"
   ]
  },
  {
   "cell_type": "code",
   "execution_count": 19,
   "id": "09fd9be4",
   "metadata": {},
   "outputs": [],
   "source": [
    "from sklearn.preprocessing import LabelEncoder"
   ]
  },
  {
   "cell_type": "code",
   "execution_count": 20,
   "id": "bea98b77",
   "metadata": {},
   "outputs": [
    {
     "name": "stderr",
     "output_type": "stream",
     "text": [
      "C:\\Users\\DELL\\AppData\\Local\\Temp\\ipykernel_21812\\1044256781.py:3: SettingWithCopyWarning: \n",
      "A value is trying to be set on a copy of a slice from a DataFrame.\n",
      "Try using .loc[row_indexer,col_indexer] = value instead\n",
      "\n",
      "See the caveats in the documentation: https://pandas.pydata.org/pandas-docs/stable/user_guide/indexing.html#returning-a-view-versus-a-copy\n",
      "  df[y] = le.fit_transform(df[y])\n"
     ]
    },
    {
     "data": {
      "text/html": [
       "<div>\n",
       "<style scoped>\n",
       "    .dataframe tbody tr th:only-of-type {\n",
       "        vertical-align: middle;\n",
       "    }\n",
       "\n",
       "    .dataframe tbody tr th {\n",
       "        vertical-align: top;\n",
       "    }\n",
       "\n",
       "    .dataframe thead th {\n",
       "        text-align: right;\n",
       "    }\n",
       "</style>\n",
       "<table border=\"1\" class=\"dataframe\">\n",
       "  <thead>\n",
       "    <tr style=\"text-align: right;\">\n",
       "      <th></th>\n",
       "      <th>Timestamp</th>\n",
       "      <th>Age</th>\n",
       "      <th>Feeling sad or Tearful</th>\n",
       "      <th>Irritable towards baby &amp; partner</th>\n",
       "      <th>Trouble sleeping at night</th>\n",
       "      <th>Problems concentrating or making decision</th>\n",
       "      <th>Overeating or loss of appetite</th>\n",
       "      <th>Feeling anxious</th>\n",
       "      <th>Feeling of guilt</th>\n",
       "      <th>Problems of bonding with baby</th>\n",
       "      <th>Suicide attempt</th>\n",
       "    </tr>\n",
       "  </thead>\n",
       "  <tbody>\n",
       "    <tr>\n",
       "      <th>0</th>\n",
       "      <td>0</td>\n",
       "      <td>2</td>\n",
       "      <td>2</td>\n",
       "      <td>2</td>\n",
       "      <td>1</td>\n",
       "      <td>2</td>\n",
       "      <td>2</td>\n",
       "      <td>1</td>\n",
       "      <td>1</td>\n",
       "      <td>2</td>\n",
       "      <td>2</td>\n",
       "    </tr>\n",
       "    <tr>\n",
       "      <th>1</th>\n",
       "      <td>1</td>\n",
       "      <td>3</td>\n",
       "      <td>2</td>\n",
       "      <td>0</td>\n",
       "      <td>0</td>\n",
       "      <td>2</td>\n",
       "      <td>2</td>\n",
       "      <td>0</td>\n",
       "      <td>2</td>\n",
       "      <td>2</td>\n",
       "      <td>0</td>\n",
       "    </tr>\n",
       "    <tr>\n",
       "      <th>2</th>\n",
       "      <td>2</td>\n",
       "      <td>2</td>\n",
       "      <td>2</td>\n",
       "      <td>0</td>\n",
       "      <td>2</td>\n",
       "      <td>2</td>\n",
       "      <td>2</td>\n",
       "      <td>1</td>\n",
       "      <td>1</td>\n",
       "      <td>1</td>\n",
       "      <td>0</td>\n",
       "    </tr>\n",
       "    <tr>\n",
       "      <th>3</th>\n",
       "      <td>3</td>\n",
       "      <td>2</td>\n",
       "      <td>2</td>\n",
       "      <td>2</td>\n",
       "      <td>2</td>\n",
       "      <td>2</td>\n",
       "      <td>0</td>\n",
       "      <td>1</td>\n",
       "      <td>0</td>\n",
       "      <td>0</td>\n",
       "      <td>0</td>\n",
       "    </tr>\n",
       "    <tr>\n",
       "      <th>4</th>\n",
       "      <td>4</td>\n",
       "      <td>3</td>\n",
       "      <td>2</td>\n",
       "      <td>0</td>\n",
       "      <td>1</td>\n",
       "      <td>2</td>\n",
       "      <td>0</td>\n",
       "      <td>1</td>\n",
       "      <td>1</td>\n",
       "      <td>2</td>\n",
       "      <td>0</td>\n",
       "    </tr>\n",
       "  </tbody>\n",
       "</table>\n",
       "</div>"
      ],
      "text/plain": [
       "   Timestamp  Age  Feeling sad or Tearful  Irritable towards baby & partner  \\\n",
       "0          0    2                       2                                 2   \n",
       "1          1    3                       2                                 0   \n",
       "2          2    2                       2                                 0   \n",
       "3          3    2                       2                                 2   \n",
       "4          4    3                       2                                 0   \n",
       "\n",
       "   Trouble sleeping at night  Problems concentrating or making decision  \\\n",
       "0                          1                                          2   \n",
       "1                          0                                          2   \n",
       "2                          2                                          2   \n",
       "3                          2                                          2   \n",
       "4                          1                                          2   \n",
       "\n",
       "   Overeating or loss of appetite  Feeling anxious  Feeling of guilt  \\\n",
       "0                               2                1                 1   \n",
       "1                               2                0                 2   \n",
       "2                               2                1                 1   \n",
       "3                               0                1                 0   \n",
       "4                               0                1                 1   \n",
       "\n",
       "   Problems of bonding with baby  Suicide attempt  \n",
       "0                              2                2  \n",
       "1                              2                0  \n",
       "2                              1                0  \n",
       "3                              0                0  \n",
       "4                              2                0  "
      ]
     },
     "execution_count": 20,
     "metadata": {},
     "output_type": "execute_result"
    }
   ],
   "source": [
    "def label_encoder(y):\n",
    "    le = LabelEncoder()\n",
    "    df[y] = le.fit_transform(df[y])\n",
    " \n",
    "label_list = ['Timestamp','Age', 'Feeling sad or Tearful',\n",
    "       'Irritable towards baby & partner', 'Trouble sleeping at night',\n",
    "       'Problems concentrating or making decision',\n",
    "       'Overeating or loss of appetite', 'Feeling anxious', 'Feeling of guilt',\n",
    "       'Problems of bonding with baby', 'Suicide attempt']\n",
    " \n",
    "for l in label_list:\n",
    "    label_encoder(l)\n",
    " \n",
    "df.head()"
   ]
  },
  {
   "cell_type": "code",
   "execution_count": 21,
   "id": "f41b8c40",
   "metadata": {},
   "outputs": [
    {
     "data": {
      "text/plain": [
       "Index(['Timestamp', 'Age', 'Feeling sad or Tearful',\n",
       "       'Irritable towards baby & partner', 'Trouble sleeping at night',\n",
       "       'Problems concentrating or making decision',\n",
       "       'Overeating or loss of appetite', 'Feeling anxious', 'Feeling of guilt',\n",
       "       'Problems of bonding with baby', 'Suicide attempt'],\n",
       "      dtype='object')"
      ]
     },
     "execution_count": 21,
     "metadata": {},
     "output_type": "execute_result"
    }
   ],
   "source": [
    "df.columns"
   ]
  },
  {
   "cell_type": "code",
   "execution_count": 22,
   "id": "28d5e6f0",
   "metadata": {},
   "outputs": [],
   "source": [
    "from sklearn.model_selection import train_test_split"
   ]
  },
  {
   "cell_type": "code",
   "execution_count": 23,
   "id": "dfbe5703",
   "metadata": {},
   "outputs": [
    {
     "name": "stdout",
     "output_type": "stream",
     "text": [
      "X_train shape: (1192, 10)\n",
      "X_test shape: (299, 10)\n",
      "y_train shape: (1192, 1)\n",
      "y_test shape: (299, 1)\n"
     ]
    }
   ],
   "source": [
    "X = df.drop([\"Feeling anxious\"],axis=1)\n",
    "y = df['Feeling anxious']\n",
    " \n",
    "X_train,X_test,y_train,y_test=train_test_split(X,y,test_size=0.2,random_state=42, shuffle=True) \n",
    "  \n",
    "y_train = y_train.values.reshape(-1,1)\n",
    "y_test = y_test.values.reshape(-1,1)\n",
    " \n",
    "print(\"X_train shape:\",X_train.shape)\n",
    "print(\"X_test shape:\",X_test.shape)\n",
    "print(\"y_train shape:\",y_train.shape)\n",
    "print(\"y_test shape:\",y_test.shape)"
   ]
  },
  {
   "cell_type": "code",
   "execution_count": 24,
   "id": "60a92022",
   "metadata": {},
   "outputs": [],
   "source": [
    "from sklearn.preprocessing import StandardScaler\n",
    "from sklearn.linear_model import LogisticRegression"
   ]
  },
  {
   "cell_type": "code",
   "execution_count": 25,
   "id": "57171f88",
   "metadata": {},
   "outputs": [],
   "source": [
    "sc = StandardScaler()\n",
    "X_train = sc.fit_transform(X_train)\n",
    "X_test = sc.fit_transform(X_test)"
   ]
  },
  {
   "cell_type": "code",
   "execution_count": 26,
   "id": "af66f2cd",
   "metadata": {},
   "outputs": [],
   "source": [
    "from sklearn.model_selection import cross_val_score"
   ]
  },
  {
   "cell_type": "code",
   "execution_count": 27,
   "id": "d1f7e26c",
   "metadata": {},
   "outputs": [
    {
     "name": "stdout",
     "output_type": "stream",
     "text": [
      "Train Score: 0.7172884216448085\n",
      "Test Score: 0.7725752508361204\n"
     ]
    },
    {
     "name": "stderr",
     "output_type": "stream",
     "text": [
      "G:\\software\\lib\\site-packages\\sklearn\\utils\\validation.py:993: DataConversionWarning: A column-vector y was passed when a 1d array was expected. Please change the shape of y to (n_samples, ), for example using ravel().\n",
      "  y = column_or_1d(y, warn=True)\n",
      "G:\\software\\lib\\site-packages\\sklearn\\utils\\validation.py:993: DataConversionWarning: A column-vector y was passed when a 1d array was expected. Please change the shape of y to (n_samples, ), for example using ravel().\n",
      "  y = column_or_1d(y, warn=True)\n",
      "G:\\software\\lib\\site-packages\\sklearn\\utils\\validation.py:993: DataConversionWarning: A column-vector y was passed when a 1d array was expected. Please change the shape of y to (n_samples, ), for example using ravel().\n",
      "  y = column_or_1d(y, warn=True)\n",
      "G:\\software\\lib\\site-packages\\sklearn\\utils\\validation.py:993: DataConversionWarning: A column-vector y was passed when a 1d array was expected. Please change the shape of y to (n_samples, ), for example using ravel().\n",
      "  y = column_or_1d(y, warn=True)\n",
      "G:\\software\\lib\\site-packages\\sklearn\\utils\\validation.py:993: DataConversionWarning: A column-vector y was passed when a 1d array was expected. Please change the shape of y to (n_samples, ), for example using ravel().\n",
      "  y = column_or_1d(y, warn=True)\n",
      "G:\\software\\lib\\site-packages\\sklearn\\utils\\validation.py:993: DataConversionWarning: A column-vector y was passed when a 1d array was expected. Please change the shape of y to (n_samples, ), for example using ravel().\n",
      "  y = column_or_1d(y, warn=True)\n"
     ]
    }
   ],
   "source": [
    "reg = LogisticRegression(random_state = 42)\n",
    "accuracies = cross_val_score(reg, X_train, y_train, cv=5)\n",
    "reg.fit(X_train,y_train)\n",
    "y_pred = reg.predict(X_test)\n",
    " \n",
    "print(\"Train Score:\",np.mean(accuracies))\n",
    "print(\"Test Score:\",reg.score(X_test,y_test))"
   ]
  },
  {
   "cell_type": "code",
   "execution_count": null,
   "id": "59e75b4b",
   "metadata": {},
   "outputs": [],
   "source": []
  },
  {
   "cell_type": "code",
   "execution_count": null,
   "id": "e0bec230",
   "metadata": {},
   "outputs": [],
   "source": []
  }
 ],
 "metadata": {
  "kernelspec": {
   "display_name": "Python 3 (ipykernel)",
   "language": "python",
   "name": "python3"
  },
  "language_info": {
   "codemirror_mode": {
    "name": "ipython",
    "version": 3
   },
   "file_extension": ".py",
   "mimetype": "text/x-python",
   "name": "python",
   "nbconvert_exporter": "python",
   "pygments_lexer": "ipython3",
   "version": "3.9.12"
  }
 },
 "nbformat": 4,
 "nbformat_minor": 5
}
